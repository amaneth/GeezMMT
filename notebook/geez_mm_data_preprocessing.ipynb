{
 "cells": [
  {
   "cell_type": "code",
   "execution_count": 1,
   "metadata": {},
   "outputs": [],
   "source": [
    "import pandas as pd\n",
    "import random\n",
    "import string\n",
    "\n",
    "import warnings\n",
    "warnings.simplefilter(action='ignore', category=FutureWarning)"
   ]
  },
  {
   "cell_type": "code",
   "execution_count": 2,
   "metadata": {},
   "outputs": [],
   "source": [
    "random.seed(41)"
   ]
  },
  {
   "cell_type": "code",
   "execution_count": 4,
   "metadata": {},
   "outputs": [],
   "source": [
    "def plot_dist(train_df, test_df, val_df, by='from'):\n",
    "    train_counts = dict(train_df[by].value_counts())\n",
    "    test_counts = dict(test_df[by].value_counts())\n",
    "    val_counts = dict(val_df[by].value_counts())\n",
    "    df = pd.DataFrame({'train': train_counts,\n",
    "                       'test': test_counts,\n",
    "                        'val': val_counts}, index=train_counts.keys())\n",
    "    df.plot.bar(figsize=(20,8))"
   ]
  },
  {
   "cell_type": "code",
   "execution_count": null,
   "metadata": {},
   "outputs": [],
   "source": [
    "def remove_punctuation(data_df):\n",
    "    geez_punctuations = '“«»፡።፣፤፥፦፧፨፠ '\n",
    "    data_uncased = pd.DataFrame()\n",
    "    data_uncased['source_lang'] = data_df['source_lang'].str.replace('[{}]'.format(string.punctuation+geez_punctuations), '').str.lower()\n",
    "    data_uncased['target_lang']= data_df['target_lang'].str.replace('[{}]'.format(string.punctuation+geez_punctuations), '').str.lower()\n",
    "    \n",
    "    return data_uncased"
   ]
  },
  {
   "cell_type": "code",
   "execution_count": 5,
   "metadata": {},
   "outputs": [],
   "source": [
    "def check_overlap(train_df, test_df, val_df):\n",
    "    fitrered_train = remove_punctuation(train_df)\n",
    "    filtered_test = remove_punctuation(test_df)\n",
    "    filtered_val = remove_punctuation(val_df)\n",
    "    src_duplicate = (set(fitrered_train['source_lang'])\\\n",
    "                    .intersection(set(filtered_test['source_lang'])))\\\n",
    "                    .union(set(fitrered_train['source_lang'])\\\n",
    "                    .intersection(set(filtered_val['source_lang'])))\n",
    "    tgt_duplicate = (set(fitrered_train['target_lang'])\\\n",
    "                    .intersection(set(filtered_test['target_lang'])))\\\n",
    "                    .union(set(fitrered_train['target_lang'])\\\n",
    "                    .intersection(set(filtered_val['target_lang'])))\n",
    "    src_tgt_duplicate = (set(fitrered_train['source_lang'])\\\n",
    "                    .intersection(set(filtered_test['target_lang'])))\\\n",
    "                    .union(set(fitrered_train['source_lang'])\\\n",
    "                    .intersection(set(filtered_val['target_lang'])))\n",
    "    tgt_src_duplicate = (set(fitrered_train['target_lang'])\\\n",
    "                    .intersection(set(filtered_test['source_lang'])))\\\n",
    "                    .union(set(fitrered_train['target_lang'])\\\n",
    "                    .intersection(set(filtered_val['source_lang'])))\n",
    "    \n",
    "    overlaps = src_duplicate.union(tgt_duplicate).union(src_tgt_duplicate).union(tgt_src_duplicate)\n",
    "    \n",
    "    if not overlaps:\n",
    "        print('NO Overlaps!')\n",
    "    else:\n",
    "        print('Ooops... There is an overlap!', len(overlaps))"
   ]
  },
  {
   "cell_type": "code",
   "execution_count": 6,
   "metadata": {},
   "outputs": [],
   "source": [
    "def switch_direction(train_df, test_df, val_df):\n",
    "    \n",
    "    newtrain_df = train_df.rename(columns={'source_lang':'target_lang', 'target_lang':'source_lang'})\n",
    "    newtest_df = test_df.rename(columns={'source_lang':'target_lang', 'target_lang':'source_lang'})\n",
    "    newval_df = val_df.rename(columns={'source_lang':'target_lang', 'target_lang':'source_lang'})\n",
    "    \n",
    "\n",
    "    \n",
    "    direction = '-'.join(train_df['direction'].iloc[0].split('-')[::-1])\n",
    "    \n",
    "    newtrain_df['direction'] = direction\n",
    "    newtest_df['direction'] = direction\n",
    "    newval_df['direction'] = direction\n",
    "    \n",
    "    newtrain_df = newtrain_df[['source_lang', 'target_lang', 'from', 'direction']]\n",
    "    newtest_df = newtest_df[['source_lang', 'target_lang', 'from', 'direction']]\n",
    "    newval_df = newval_df[['source_lang', 'target_lang', 'from', 'direction']]\n",
    "\n",
    "    return newtrain_df, newtest_df, newval_df"
   ]
  },
  {
   "cell_type": "code",
   "execution_count": 7,
   "metadata": {},
   "outputs": [],
   "source": [
    "amh_prefix = '<AMH>'\n",
    "gez_prefix = '<GEZ>'\n",
    "tir_prefix = '<TIR>'\n",
    "en_prefix = '<EN>'\n",
    "\n",
    "def add_prefix(df, prefix):\n",
    "    new_df = df.copy()\n",
    "    new_df['source_lang'] = prefix+' '+ df['source_lang'].astype(str)\n",
    "    \n",
    "    return new_df"
   ]
  },
  {
   "cell_type": "markdown",
   "metadata": {},
   "source": [
    "### English - Ge'ez"
   ]
  },
  {
   "cell_type": "code",
   "execution_count": 8,
   "metadata": {},
   "outputs": [],
   "source": [
    "bible_df = pd.read_csv('geez/en_gez.csv')\n",
    "bible_df['from']='bible'\n",
    "en_gez_df = bible_df"
   ]
  },
  {
   "cell_type": "code",
   "execution_count": 9,
   "metadata": {},
   "outputs": [],
   "source": [
    "en_gez_df['direction'] = 'en-gez'"
   ]
  },
  {
   "cell_type": "markdown",
   "metadata": {},
   "source": [
    "### English - Amharic"
   ]
  },
  {
   "cell_type": "code",
   "execution_count": 10,
   "metadata": {},
   "outputs": [],
   "source": [
    "tanzil_df = pd.read_csv('amharic/en_amh_tanzil.csv')"
   ]
  },
  {
   "cell_type": "code",
   "execution_count": 11,
   "metadata": {},
   "outputs": [
    {
     "name": "stderr",
     "output_type": "stream",
     "text": [
      "<ipython-input-11-5b0ed4083b80>:6: SettingWithCopyWarning: \n",
      "A value is trying to be set on a copy of a slice from a DataFrame.\n",
      "Try using .loc[row_indexer,col_indexer] = value instead\n",
      "\n",
      "See the caveats in the documentation: https://pandas.pydata.org/pandas-docs/stable/user_guide/indexing.html#returning-a-view-versus-a-copy\n",
      "  tanzil_filtered_df['from'] = 'tanzil'\n"
     ]
    }
   ],
   "source": [
    "uncased_tanzil = remove_punctuation(tanzil_df)\n",
    "tanzil_duplicates = uncased_tanzil.duplicated('source_lang', keep='first')\\\n",
    "                |uncased_tanzil.duplicated('target_lang', keep='first')\n",
    "\n",
    "tanzil_filtered_df = tanzil_df[~tanzil_duplicates]\n",
    "tanzil_filtered_df['from'] = 'tanzil'"
   ]
  },
  {
   "cell_type": "code",
   "execution_count": 12,
   "metadata": {},
   "outputs": [],
   "source": [
    "constitution_df = pd.read_csv('amharic/en_amh_constitution.csv')\n",
    "constitution_df['from']='constitution'\n",
    "history_df = pd.read_csv('amharic/en_amh_history.csv')\n",
    "history_df['from'] = 'history'\n",
    "jwdaily_df = pd.read_csv('amharic/en_amh_jwdaily.csv')\n",
    "jwdaily_df['from'] = 'jwdaily'\n",
    "news_df = pd.read_csv('amharic/en_amh_news.csv')\n",
    "news_df['from'] = 'news'\n",
    "opusbible_df = pd.read_csv('amharic/en_amh_opusbible.csv')\n",
    "opusbible_df['from'] = 'bible'\n",
    "ethiopicbible_df = pd.read_csv('amharic/en_amh_ethiopicbible.csv')\n",
    "ethiopicbible_df['from'] = 'bible'\n",
    "ebible_df = pd.read_csv('amharic/en_amh_ebible.csv')\n",
    "ebible_df['from'] = 'bible'\n",
    "\n",
    "# tanzil_df['from'] = 'tanzil'\n",
    "tatoeba_df = pd.read_csv('amharic/en_amh_tatoeba.csv')\n",
    "tatoeba_df['from'] = 'tatoeba'\n",
    "ted_df = pd.read_csv('amharic/en_amh_ted.csv')\n",
    "ted_df['from'] = 'ted'\n",
    "wikimedia_df = pd.read_csv('amharic/en_amh_wikimedia.csv')\n",
    "wikimedia_df['from'] = 'wikimedia'"
   ]
  },
  {
   "cell_type": "code",
   "execution_count": 13,
   "metadata": {},
   "outputs": [],
   "source": [
    "en_amh_df = pd.concat([constitution_df, history_df, jwdaily_df, news_df, opusbible_df, ethiopicbible_df, ebible_df,\n",
    "          tanzil_filtered_df, tatoeba_df, ted_df, wikimedia_df])"
   ]
  },
  {
   "cell_type": "code",
   "execution_count": 15,
   "metadata": {},
   "outputs": [],
   "source": [
    "en_amh_df['direction'] = 'en-amh'"
   ]
  },
  {
   "cell_type": "markdown",
   "metadata": {},
   "source": [
    "### English - Tigrinya"
   ]
  },
  {
   "cell_type": "code",
   "execution_count": 16,
   "metadata": {},
   "outputs": [],
   "source": [
    "jwbible_df = pd.read_csv('tigrinya/en_tir_jwbible.csv')\n",
    "jwbible_df['from']='bible'\n",
    "tatoeba_df = pd.read_csv('tigrinya/en_tir_tatoeba.csv')\n",
    "tatoeba_df['from'] = 'tatoeba'\n",
    "tico_df = pd.read_csv('tigrinya/en_tir_tico.csv')\n",
    "tico_df['from'] = 'tico'"
   ]
  },
  {
   "cell_type": "code",
   "execution_count": 17,
   "metadata": {},
   "outputs": [],
   "source": [
    "en_tir_df = pd.concat([jwbible_df, tatoeba_df, tico_df])"
   ]
  },
  {
   "cell_type": "code",
   "execution_count": 18,
   "metadata": {},
   "outputs": [],
   "source": [
    "en_tir_df['direction'] = 'en-tir'"
   ]
  },
  {
   "cell_type": "markdown",
   "metadata": {},
   "source": [
    "### Amharic - Tigrinya"
   ]
  },
  {
   "cell_type": "code",
   "execution_count": 19,
   "metadata": {},
   "outputs": [],
   "source": [
    "jwbible_df = pd.read_csv('amharic/amh_tir_jwbible.csv')\n",
    "jwbible_df['from'] = 'bible'\n",
    "jwdaily_df = pd.read_csv('amharic/amh_tir_jwdaily.csv')\n",
    "jwdaily_df['from'] = 'jwdaily'\n",
    "tico_df = pd.read_csv('amharic/amh_tir_tico.csv')\n",
    "tico_df['from'] = 'tico'"
   ]
  },
  {
   "cell_type": "code",
   "execution_count": 20,
   "metadata": {},
   "outputs": [],
   "source": [
    "amh_tir_df = pd.concat([jwbible_df, jwdaily_df, tico_df])\n",
    "amh_tir_df['direction'] = 'amh-tir'"
   ]
  },
  {
   "cell_type": "markdown",
   "metadata": {},
   "source": [
    "### Amharic-Ge'ez"
   ]
  },
  {
   "cell_type": "code",
   "execution_count": 21,
   "metadata": {},
   "outputs": [],
   "source": [
    "ethiopicbible_df = pd.read_csv('amharic/amh_gez_ethiopicbible.csv')\n",
    "ethiopicbible_df['from'] = 'bible'\n",
    "tadesse_df = pd.read_csv('amharic/amh_gez_tadesse.csv')\n",
    "tadesse_df['from'] = 'bible'"
   ]
  },
  {
   "cell_type": "code",
   "execution_count": 22,
   "metadata": {},
   "outputs": [],
   "source": [
    "amh_gez_df = pd.concat([ethiopicbible_df, tadesse_df])\n",
    "amh_gez_df['direction'] = 'amh-gez'"
   ]
  },
  {
   "cell_type": "markdown",
   "metadata": {},
   "source": [
    "# Multilingual"
   ]
  },
  {
   "cell_type": "code",
   "execution_count": 23,
   "metadata": {},
   "outputs": [],
   "source": [
    "mmt_df = pd.concat([en_amh_df, en_gez_df, en_tir_df, amh_tir_df,\n",
    "                         amh_gez_df])\n",
    "mmt_df.drop_duplicates(['source_lang', 'target_lang'], keep='first', inplace=True)\n",
    "mmt_df.reset_index(drop=True, inplace=True)"
   ]
  },
  {
   "cell_type": "code",
   "execution_count": 24,
   "metadata": {},
   "outputs": [
    {
     "data": {
      "text/html": [
       "<div>\n",
       "<style scoped>\n",
       "    .dataframe tbody tr th:only-of-type {\n",
       "        vertical-align: middle;\n",
       "    }\n",
       "\n",
       "    .dataframe tbody tr th {\n",
       "        vertical-align: top;\n",
       "    }\n",
       "\n",
       "    .dataframe thead th {\n",
       "        text-align: right;\n",
       "    }\n",
       "</style>\n",
       "<table border=\"1\" class=\"dataframe\">\n",
       "  <thead>\n",
       "    <tr style=\"text-align: right;\">\n",
       "      <th></th>\n",
       "      <th>source_lang</th>\n",
       "      <th>target_lang</th>\n",
       "      <th>from</th>\n",
       "      <th>direction</th>\n",
       "    </tr>\n",
       "  </thead>\n",
       "  <tbody>\n",
       "    <tr>\n",
       "      <th>0</th>\n",
       "      <td>FEDERAL NEGARIT GAZETTE OF THE FEDERAL DEMOCRA...</td>\n",
       "      <td>የኢትዮጵያ ፌደራላዊ ዲሞክራሲያዊ ሪፐብሊክ ፌደራል ነጋሪት ጋዜጣ</td>\n",
       "      <td>constitution</td>\n",
       "      <td>en-amh</td>\n",
       "    </tr>\n",
       "    <tr>\n",
       "      <th>1</th>\n",
       "      <td>and Year No.101 ADDIS ABABA 5 thAugest, 2016</td>\n",
       "      <td>ሃያ ሁለተኛ ዓመት ቁጥር ፩፻፩ አዲስ አበባ  ሐምሌ ፳፱ ቀን ፪ሺ፰ዓ.ም</td>\n",
       "      <td>constitution</td>\n",
       "      <td>en-amh</td>\n",
       "    </tr>\n",
       "    <tr>\n",
       "      <th>2</th>\n",
       "      <td>Proclamation No.980/2016</td>\n",
       "      <td>ዋጅ ቁጥር ፱፻፹/፪ሺ፰ ዓ.ም</td>\n",
       "      <td>constitution</td>\n",
       "      <td>en-amh</td>\n",
       "    </tr>\n",
       "    <tr>\n",
       "      <th>3</th>\n",
       "      <td>Commercial and Licensing Proclamation …..……………...</td>\n",
       "      <td>ንግድ ምዝገባና ፍቃድ አዋጅ………..ገጽ ፱ሺ፩፻፺፬</td>\n",
       "      <td>constitution</td>\n",
       "      <td>en-amh</td>\n",
       "    </tr>\n",
       "    <tr>\n",
       "      <th>4</th>\n",
       "      <td>Registration Proclamation No. 980/2016</td>\n",
       "      <td>ዋጅ ቁጥር ፱፻፹/፪ሺ፰ ዓ.ም የንግድ ምዝገባና ፈቃድ አዋጅ</td>\n",
       "      <td>constitution</td>\n",
       "      <td>en-amh</td>\n",
       "    </tr>\n",
       "  </tbody>\n",
       "</table>\n",
       "</div>"
      ],
      "text/plain": [
       "                                         source_lang  \\\n",
       "0  FEDERAL NEGARIT GAZETTE OF THE FEDERAL DEMOCRA...   \n",
       "1       and Year No.101 ADDIS ABABA 5 thAugest, 2016   \n",
       "2                           Proclamation No.980/2016   \n",
       "3  Commercial and Licensing Proclamation …..……………...   \n",
       "4             Registration Proclamation No. 980/2016   \n",
       "\n",
       "                                     target_lang          from direction  \n",
       "0       የኢትዮጵያ ፌደራላዊ ዲሞክራሲያዊ ሪፐብሊክ ፌደራል ነጋሪት ጋዜጣ  constitution    en-amh  \n",
       "1  ሃያ ሁለተኛ ዓመት ቁጥር ፩፻፩ አዲስ አበባ  ሐምሌ ፳፱ ቀን ፪ሺ፰ዓ.ም  constitution    en-amh  \n",
       "2                             ዋጅ ቁጥር ፱፻፹/፪ሺ፰ ዓ.ም  constitution    en-amh  \n",
       "3                ንግድ ምዝገባና ፍቃድ አዋጅ………..ገጽ ፱ሺ፩፻፺፬  constitution    en-amh  \n",
       "4          ዋጅ ቁጥር ፱፻፹/፪ሺ፰ ዓ.ም የንግድ ምዝገባና ፈቃድ አዋጅ  constitution    en-amh  "
      ]
     },
     "execution_count": 24,
     "metadata": {},
     "output_type": "execute_result"
    }
   ],
   "source": [
    "mmt_df.head()"
   ]
  },
  {
   "cell_type": "code",
   "execution_count": 25,
   "metadata": {},
   "outputs": [
    {
     "data": {
      "text/plain": [
       "207262"
      ]
     },
     "execution_count": 25,
     "metadata": {},
     "output_type": "execute_result"
    }
   ],
   "source": [
    "len(mmt_df)"
   ]
  },
  {
   "cell_type": "code",
   "execution_count": 26,
   "metadata": {},
   "outputs": [],
   "source": [
    "ratio = {'en-amh':(.775, .155, .07), 'en-gez':(.80, .14, .06), \n",
    "         'en-tir':(.76, .16, .08), 'amh-tir':(.71, .2, .09), 'amh-gez':(.825, .12, .055)}"
   ]
  },
  {
   "cell_type": "code",
   "execution_count": 27,
   "metadata": {},
   "outputs": [],
   "source": [
    "mmt_train_df, mmt_test_df, mmt_val_df = (pd.DataFrame() for _ in range(3))\n",
    "sources = mmt_df.groupby('direction')['from'].unique()\n",
    "directions = mmt_df['direction'].unique()\n",
    "for direction in directions:\n",
    "    for source in sources[direction]:\n",
    "        df = mmt_df[(mmt_df['direction']==direction) & (mmt_df['from']==source)]\n",
    "        shuffled_df = df.sample(frac=1, random_state=41).reset_index(drop=True)\n",
    "        \n",
    "        train_ratio, test_ratio, val_ratio = ratio[direction]\n",
    "        size = len(df)\n",
    "        train_size = int(size*train_ratio)\n",
    "        test_size = int(size*test_ratio)\n",
    "        val_size = int(size*val_ratio)\n",
    "        \n",
    "        train_df = shuffled_df.iloc[:train_size]\n",
    "        test_df = shuffled_df.iloc[train_size: train_size+test_size]\n",
    "        val_df = shuffled_df.iloc[train_size+test_size:]\n",
    "        \n",
    "        mmt_train_df = pd.concat([mmt_train_df, train_df])\n",
    "        mmt_test_df = pd.concat([mmt_test_df, test_df])\n",
    "        mmt_val_df = pd.concat([mmt_val_df, val_df])\n",
    "\n",
    "mmt_train_df.reset_index(drop=True, inplace=True)\n",
    "mmt_test_df.reset_index(drop=True, inplace=True)\n",
    "mmt_val_df.reset_index(drop=True, inplace=True)"
   ]
  },
  {
   "cell_type": "code",
   "execution_count": 28,
   "metadata": {},
   "outputs": [
    {
     "data": {
      "text/plain": [
       "(159266, 32890, 15106)"
      ]
     },
     "execution_count": 28,
     "metadata": {},
     "output_type": "execute_result"
    }
   ],
   "source": [
    "len(mmt_train_df), len(mmt_test_df), len(mmt_val_df)"
   ]
  },
  {
   "cell_type": "code",
   "execution_count": 29,
   "metadata": {},
   "outputs": [
    {
     "data": {
      "text/plain": [
       "207262"
      ]
     },
     "execution_count": 29,
     "metadata": {},
     "output_type": "execute_result"
    }
   ],
   "source": [
    "len(mmt_train_df)+len(mmt_test_df)+len(mmt_val_df)"
   ]
  },
  {
   "cell_type": "code",
   "execution_count": 30,
   "metadata": {},
   "outputs": [],
   "source": [
    "mmt_train_filtered = remove_punctuation(mmt_train_df)\n",
    "mmt_test_filtered = remove_punctuation(mmt_test_df)\n",
    "mmt_val_filtered = remove_punctuation(mmt_val_df)\n",
    "\n",
    "# train_duplicates = mmt_train_filtered[mmt_train_filtered.duplicated(keep='first')].index.tolist()\n",
    "test_duplicates = mmt_test_filtered.duplicated(['source_lang'], keep='first') | mmt_test_filtered.duplicated(['target_lang'], keep='first')\n",
    "val_duplicates = mmt_val_filtered.duplicated(['source_lang'], keep='first') | mmt_val_filtered.duplicated(['target_lang'], keep='first')\n",
    "\n",
    "test_src_duplicates = mmt_train_filtered.merge(mmt_test_filtered[~test_duplicates], indicator=True, on=['source_lang'], how='left',suffixes=[None,'_y'])\\\n",
    "     .query('_merge!=\"left_only\"').index.tolist()\n",
    "test_tgt_duplicates = mmt_train_filtered.merge(mmt_test_filtered[~test_duplicates], indicator=True, on=['target_lang'], how='left',suffixes=[None,'_y'])\\\n",
    "     .query('_merge!=\"left_only\"').index.tolist()\n",
    "\n",
    "val_src_duplicates = mmt_train_filtered.merge(mmt_val_filtered[~val_duplicates], indicator=True, on=['source_lang'], how='left',suffixes=[None,'_y'])\\\n",
    "     .query('_merge!=\"left_only\"').index.tolist()\n",
    "val_tgt_duplicates = mmt_train_filtered.merge(mmt_val_filtered[~val_duplicates], indicator=True, on=['target_lang'], how='left',suffixes=[None,'_y'])\\\n",
    "     .query('_merge!=\"left_only\"').index.tolist()"
   ]
  },
  {
   "cell_type": "code",
   "execution_count": 31,
   "metadata": {},
   "outputs": [],
   "source": [
    "test_src_tgt_duplicates = mmt_train_filtered.merge(mmt_test_filtered[~test_duplicates], indicator=True, left_on=['source_lang'], right_on=['target_lang'], how='left',suffixes=[None,'_y'])\\\n",
    "     .query('_merge!=\"left_only\"').index.tolist()\n",
    "\n",
    "test_tgt_src_duplicates = mmt_train_filtered.merge(mmt_test_filtered[~test_duplicates], indicator=True, left_on=['target_lang'], right_on=['source_lang'], how='left',suffixes=[None,'_y'])\\\n",
    "     .query('_merge!=\"left_only\"').index.tolist()\n",
    "\n",
    "val_src_tgt_duplicates = mmt_train_filtered.merge(mmt_val_filtered[~val_duplicates], indicator=True, left_on=['source_lang'], right_on=['target_lang'], how='left',suffixes=[None,'_y'])\\\n",
    "     .query('_merge!=\"left_only\"').index.tolist()\n",
    "\n",
    "val_tgt_src_duplicates = mmt_train_filtered.merge(mmt_val_filtered[~val_duplicates], indicator=True, left_on=['target_lang'], right_on=['source_lang'], how='left',suffixes=[None,'_y'])\\\n",
    "     .query('_merge!=\"left_only\"').index.tolist()"
   ]
  },
  {
   "cell_type": "code",
   "execution_count": 32,
   "metadata": {},
   "outputs": [],
   "source": [
    "duplicates = set(test_src_duplicates + test_tgt_duplicates\\\n",
    "                 + val_src_duplicates + val_tgt_duplicates + \\\n",
    "                test_src_tgt_duplicates + test_tgt_src_duplicates + val_src_tgt_duplicates + val_tgt_src_duplicates)"
   ]
  },
  {
   "cell_type": "code",
   "execution_count": 33,
   "metadata": {},
   "outputs": [
    {
     "data": {
      "text/plain": [
       "57295"
      ]
     },
     "execution_count": 33,
     "metadata": {},
     "output_type": "execute_result"
    }
   ],
   "source": [
    "len(duplicates)"
   ]
  },
  {
   "cell_type": "code",
   "execution_count": 34,
   "metadata": {},
   "outputs": [],
   "source": [
    "mmt_train_df.drop(index=duplicates, inplace=True)\n",
    "mmt_test_df = mmt_test_df[~test_duplicates]\n",
    "mmt_val_df = mmt_val_df[~val_duplicates]"
   ]
  },
  {
   "cell_type": "code",
   "execution_count": 35,
   "metadata": {},
   "outputs": [
    {
     "name": "stdout",
     "output_type": "stream",
     "text": [
      "NO Overlaps!\n"
     ]
    }
   ],
   "source": [
    "check_overlap(mmt_train_df, mmt_test_df, mmt_val_df)"
   ]
  },
  {
   "cell_type": "code",
   "execution_count": 36,
   "metadata": {},
   "outputs": [
    {
     "data": {
      "image/png": "[encoded data removed]",
      "text/plain": [
       "<Figure size 1440x576 with 1 Axes>"
      ]
     },
     "metadata": {
      "needs_background": "light"
     },
     "output_type": "display_data"
    }
   ],
   "source": [
    "plot_dist(mmt_train_df, mmt_test_df, mmt_val_df, by='from')"
   ]
  },
  {
   "cell_type": "code",
   "execution_count": 37,
   "metadata": {},
   "outputs": [
    {
     "data": {
      "image/png": "[encoded data removed]",
      "text/plain": [
       "<Figure size 1440x576 with 1 Axes>"
      ]
     },
     "metadata": {
      "needs_background": "light"
     },
     "output_type": "display_data"
    }
   ],
   "source": [
    "plot_dist(mmt_train_df, mmt_test_df, mmt_val_df, by='direction')"
   ]
  },
  {
   "cell_type": "code",
   "execution_count": 38,
   "metadata": {},
   "outputs": [
    {
     "name": "stdout",
     "output_type": "stream",
     "text": [
      "train_size: 70.23%\n",
      "test_size: 20.03%\n",
      "val_size: 9.73%\n"
     ]
    }
   ],
   "source": [
    "total_size = len(mmt_train_df) + len(mmt_test_df) + len(mmt_val_df)\n",
    "\n",
    "print('train_size: '+'{:.2%}'.format(len(mmt_train_df)/total_size))\n",
    "print('test_size: '+'{:.2%}'.format(len(mmt_test_df)/total_size))\n",
    "print('val_size: '+'{:.2%}'.format(len(mmt_val_df)/total_size))"
   ]
  },
  {
   "cell_type": "code",
   "execution_count": 39,
   "metadata": {},
   "outputs": [
    {
     "data": {
      "text/plain": [
       "array(['en-amh', 'en-gez', 'en-tir', 'amh-tir', 'amh-gez'], dtype=object)"
      ]
     },
     "execution_count": 39,
     "metadata": {},
     "output_type": "execute_result"
    }
   ],
   "source": [
    "directions"
   ]
  },
  {
   "cell_type": "code",
   "execution_count": 40,
   "metadata": {},
   "outputs": [],
   "source": [
    "#en-amh\n",
    "en_amh_train_df = mmt_train_df[mmt_train_df['direction']=='en-amh']\n",
    "en_amh_test_df = mmt_test_df[mmt_test_df['direction']=='en-amh']\n",
    "en_amh_val_df = mmt_val_df[mmt_val_df['direction']=='en-amh']\n",
    "\n",
    "en_gez_train_df = mmt_train_df[mmt_train_df['direction']=='en-gez']\n",
    "en_gez_test_df = mmt_test_df[mmt_test_df['direction']=='en-gez']\n",
    "en_gez_val_df = mmt_val_df[mmt_val_df['direction']=='en-gez']\n",
    "\n",
    "en_tir_train_df = mmt_train_df[mmt_train_df['direction']=='en-tir']\n",
    "en_tir_test_df = mmt_test_df[mmt_test_df['direction']=='en-tir']\n",
    "en_tir_val_df = mmt_val_df[mmt_val_df['direction']=='en-tir']\n",
    "\n",
    "amh_tir_train_df = mmt_train_df[mmt_train_df['direction']=='amh-tir']\n",
    "amh_tir_test_df = mmt_test_df[mmt_test_df['direction']=='amh-tir']\n",
    "amh_tir_val_df = mmt_val_df[mmt_val_df['direction']=='amh-tir']\n",
    "\n",
    "amh_gez_train_df = mmt_train_df[mmt_train_df['direction']=='amh-gez']\n",
    "amh_gez_test_df = mmt_test_df[mmt_test_df['direction']=='amh-gez']\n",
    "amh_gez_val_df = mmt_val_df[mmt_val_df['direction']=='amh-gez']\n",
    "\n",
    "gez_en_train_df, gez_en_test_df, gez_en_val_df = switch_direction(en_gez_train_df, en_gez_test_df, en_gez_val_df)\n",
    "gez_amh_train_df, gez_amh_test_df, gez_amh_val_df = switch_direction(amh_gez_train_df, amh_gez_test_df, amh_gez_val_df)\n",
    "\n"
   ]
  },
  {
   "cell_type": "code",
   "execution_count": 41,
   "metadata": {},
   "outputs": [],
   "source": [
    "en_amh_train_df = add_prefix(en_amh_train_df, amh_prefix)\n",
    "en_amh_test_df = add_prefix(en_amh_test_df, amh_prefix)\n",
    "en_amh_val_df = add_prefix(en_amh_val_df, amh_prefix)\n",
    "\n",
    "en_gez_train_df = add_prefix(en_gez_train_df, gez_prefix)\n",
    "en_gez_test_df = add_prefix(en_gez_test_df, gez_prefix)\n",
    "en_gez_val_df = add_prefix(en_gez_val_df, gez_prefix)\n",
    "\n",
    "en_tir_train_df = add_prefix(en_tir_train_df , tir_prefix)\n",
    "en_tir_test_df = add_prefix(en_tir_test_df, tir_prefix)\n",
    "en_tir_val_df = add_prefix(en_tir_val_df, tir_prefix)\n",
    "\n",
    "amh_tir_train_df = add_prefix(amh_tir_train_df, tir_prefix)\n",
    "amh_tir_test_df = add_prefix(amh_tir_test_df, tir_prefix)\n",
    "amh_tir_val_df = add_prefix(amh_tir_val_df, tir_prefix)\n",
    "\n",
    "amh_gez_train_df = add_prefix(amh_gez_train_df, gez_prefix)\n",
    "amh_gez_test_df = add_prefix(amh_gez_test_df , gez_prefix)\n",
    "amh_gez_val_df = add_prefix(amh_gez_val_df, gez_prefix)\n",
    "\n",
    "gez_en_train_df = add_prefix(gez_en_train_df, en_prefix)\n",
    "gez_en_test_df = add_prefix(gez_en_test_df, en_prefix)\n",
    "gez_en_val_df = add_prefix(gez_en_val_df, en_prefix)\n",
    "\n",
    "gez_amh_train_df = add_prefix(gez_amh_train_df, amh_prefix)\n",
    "gez_amh_test_df = add_prefix(gez_amh_test_df, amh_prefix)\n",
    "gez_amh_val_df = add_prefix(gez_amh_val_df, amh_prefix)"
   ]
  },
  {
   "cell_type": "code",
   "execution_count": 42,
   "metadata": {},
   "outputs": [],
   "source": [
    "en_amh_train_df.to_csv('amharic/en_amh_train.csv')\n",
    "en_amh_test_df.to_csv('amharic/en_amh_test.csv')\n",
    "en_amh_val_df.to_csv('amharic/en_amh_val.csv')\n",
    "\n",
    "en_gez_train_df.to_csv('geez/en_gez_train.csv')\n",
    "en_gez_test_df.to_csv('geez/en_gez_test.csv')\n",
    "en_gez_val_df.to_csv('geez/en_gez_val.csv')\n",
    "\n",
    "en_tir_train_df.to_csv('tigrinya/en_tir_train.csv')\n",
    "en_tir_test_df.to_csv('tigrinya/en_tir_test.csv')\n",
    "en_tir_val_df.to_csv('tigrinya/en_tir_val.csv')\n",
    "\n",
    "amh_tir_train_df.to_csv('amharic/amh_tir_train.csv')\n",
    "amh_tir_test_df.to_csv('amharic/amh_tir_test.csv')\n",
    "amh_tir_val_df.to_csv('amharic/amh_tir_val.csv')\n",
    "\n",
    "amh_gez_train_df.to_csv('amharic/amh_gez_train.csv')\n",
    "amh_gez_test_df.to_csv('amharic/amh_gez_test.csv')\n",
    "amh_gez_val_df.to_csv('amharic/amh_gez_val.csv')\n",
    "\n",
    "gez_en_train_df.to_csv('geez/gez_en_train.csv')\n",
    "gez_en_test_df.to_csv('geez/gez_en_test.csv')\n",
    "gez_en_val_df.to_csv('geez/gez_en_val.csv')\n",
    "\n",
    "gez_amh_train_df.to_csv('amharic/gez_amh_train.csv')\n",
    "gez_amh_test_df.to_csv('amharic/gez_amh_test.csv') \n",
    "gez_amh_val_df.to_csv('amharic/gez_amh_val.csv')"
   ]
  },
  {
   "cell_type": "code",
   "execution_count": 43,
   "metadata": {},
   "outputs": [
    {
     "data": {
      "text/html": [
       "<div>\n",
       "<style scoped>\n",
       "    .dataframe tbody tr th:only-of-type {\n",
       "        vertical-align: middle;\n",
       "    }\n",
       "\n",
       "    .dataframe tbody tr th {\n",
       "        vertical-align: top;\n",
       "    }\n",
       "\n",
       "    .dataframe thead th {\n",
       "        text-align: right;\n",
       "    }\n",
       "</style>\n",
       "<table border=\"1\" class=\"dataframe\">\n",
       "  <thead>\n",
       "    <tr style=\"text-align: right;\">\n",
       "      <th></th>\n",
       "      <th>source_lang</th>\n",
       "      <th>target_lang</th>\n",
       "      <th>from</th>\n",
       "      <th>direction</th>\n",
       "    </tr>\n",
       "  </thead>\n",
       "  <tbody>\n",
       "    <tr>\n",
       "      <th>138438</th>\n",
       "      <td>&lt;AMH&gt; ወሖረ ዳዊት ወአምጽኣ ለታቦተ እግዚአብሔር እምነ ቤተ አቢዳራ ው...</td>\n",
       "      <td>ዳዊትም ሄዶ የእግዚአብሔርን ታቦት ከአቢዳራ ቤት ወደ ዳዊት ከተማ በደስታ...</td>\n",
       "      <td>bible</td>\n",
       "      <td>gez-amh</td>\n",
       "    </tr>\n",
       "    <tr>\n",
       "      <th>138439</th>\n",
       "      <td>&lt;AMH&gt; አድኅነኒ እንእደ ፀርየ ወእምእለ ሮዱኒ።</td>\n",
       "      <td>ቸርነትህ እንደ ምን በዛች!</td>\n",
       "      <td>bible</td>\n",
       "      <td>gez-amh</td>\n",
       "    </tr>\n",
       "    <tr>\n",
       "      <th>138442</th>\n",
       "      <td>&lt;AMH&gt; ወተንሥአ ወሖረ ወበጽሐ በጊዜሃ ውስተ ውእቱ መካን ኀበ ይቤሎ እ...</td>\n",
       "      <td>ተነሥቶም እግዚአብሔር ወዳለው ቦታ ሄደ ።</td>\n",
       "      <td>bible</td>\n",
       "      <td>gez-amh</td>\n",
       "    </tr>\n",
       "    <tr>\n",
       "      <th>138445</th>\n",
       "      <td>&lt;AMH&gt; ወአእመረ ዳዊት ከመ ይመጽእ ሳኦል ይኅሥሦ ለዳዊት ወዳዊትሰ ሀለ...</td>\n",
       "      <td>ዳዊትም ሳኦል ነፍሱን ሊፈልግ እንደ ወጣ አየ፤ ዳዊትም በዚፍ ምድረ በዳ ...</td>\n",
       "      <td>bible</td>\n",
       "      <td>gez-amh</td>\n",
       "    </tr>\n",
       "    <tr>\n",
       "      <th>138449</th>\n",
       "      <td>&lt;AMH&gt; ይትራዐይዎ አስማሮ ይፈዲ ወለእመሰ አግመረ ገራህተ እንዘ ይበልዕ...</td>\n",
       "      <td>የሌላውንም እርሻ ቢያስበላ ከተመረጠ እርሻው ከማለፊያውም ወይኑ ይካስ ።</td>\n",
       "      <td>bible</td>\n",
       "      <td>gez-amh</td>\n",
       "    </tr>\n",
       "  </tbody>\n",
       "</table>\n",
       "</div>"
      ],
      "text/plain": [
       "                                              source_lang  \\\n",
       "138438  <AMH> ወሖረ ዳዊት ወአምጽኣ ለታቦተ እግዚአብሔር እምነ ቤተ አቢዳራ ው...   \n",
       "138439                    <AMH> አድኅነኒ እንእደ ፀርየ ወእምእለ ሮዱኒ።   \n",
       "138442  <AMH> ወተንሥአ ወሖረ ወበጽሐ በጊዜሃ ውስተ ውእቱ መካን ኀበ ይቤሎ እ...   \n",
       "138445  <AMH> ወአእመረ ዳዊት ከመ ይመጽእ ሳኦል ይኅሥሦ ለዳዊት ወዳዊትሰ ሀለ...   \n",
       "138449  <AMH> ይትራዐይዎ አስማሮ ይፈዲ ወለእመሰ አግመረ ገራህተ እንዘ ይበልዕ...   \n",
       "\n",
       "                                              target_lang   from direction  \n",
       "138438  ዳዊትም ሄዶ የእግዚአብሔርን ታቦት ከአቢዳራ ቤት ወደ ዳዊት ከተማ በደስታ...  bible   gez-amh  \n",
       "138439                                  ቸርነትህ እንደ ምን በዛች!  bible   gez-amh  \n",
       "138442                         ተነሥቶም እግዚአብሔር ወዳለው ቦታ ሄደ ።  bible   gez-amh  \n",
       "138445  ዳዊትም ሳኦል ነፍሱን ሊፈልግ እንደ ወጣ አየ፤ ዳዊትም በዚፍ ምድረ በዳ ...  bible   gez-amh  \n",
       "138449      የሌላውንም እርሻ ቢያስበላ ከተመረጠ እርሻው ከማለፊያውም ወይኑ ይካስ ።  bible   gez-amh  "
      ]
     },
     "execution_count": 43,
     "metadata": {},
     "output_type": "execute_result"
    }
   ],
   "source": [
    "gez_amh_train_df.head()"
   ]
  },
  {
   "cell_type": "code",
   "execution_count": 44,
   "metadata": {},
   "outputs": [
    {
     "data": {
      "text/html": [
       "<div>\n",
       "<style scoped>\n",
       "    .dataframe tbody tr th:only-of-type {\n",
       "        vertical-align: middle;\n",
       "    }\n",
       "\n",
       "    .dataframe tbody tr th {\n",
       "        vertical-align: top;\n",
       "    }\n",
       "\n",
       "    .dataframe thead th {\n",
       "        text-align: right;\n",
       "    }\n",
       "</style>\n",
       "<table border=\"1\" class=\"dataframe\">\n",
       "  <thead>\n",
       "    <tr style=\"text-align: right;\">\n",
       "      <th></th>\n",
       "      <th>source_lang</th>\n",
       "      <th>target_lang</th>\n",
       "      <th>from</th>\n",
       "      <th>direction</th>\n",
       "    </tr>\n",
       "  </thead>\n",
       "  <tbody>\n",
       "    <tr>\n",
       "      <th>138438</th>\n",
       "      <td>&lt;GEZ&gt; ዳዊትም ሄዶ የእግዚአብሔርን ታቦት ከአቢዳራ ቤት ወደ ዳዊት ከተ...</td>\n",
       "      <td>ወሖረ ዳዊት ወአምጽኣ ለታቦተ እግዚአብሔር እምነ ቤተ አቢዳራ ውስተ ሀገረ...</td>\n",
       "      <td>bible</td>\n",
       "      <td>amh-gez</td>\n",
       "    </tr>\n",
       "    <tr>\n",
       "      <th>138439</th>\n",
       "      <td>&lt;GEZ&gt; ቸርነትህ እንደ ምን በዛች!</td>\n",
       "      <td>አድኅነኒ እንእደ ፀርየ ወእምእለ ሮዱኒ።</td>\n",
       "      <td>bible</td>\n",
       "      <td>amh-gez</td>\n",
       "    </tr>\n",
       "    <tr>\n",
       "      <th>138442</th>\n",
       "      <td>&lt;GEZ&gt; ተነሥቶም እግዚአብሔር ወዳለው ቦታ ሄደ ።</td>\n",
       "      <td>ወተንሥአ ወሖረ ወበጽሐ በጊዜሃ ውስተ ውእቱ መካን ኀበ ይቤሎ እግዚአብሔር...</td>\n",
       "      <td>bible</td>\n",
       "      <td>amh-gez</td>\n",
       "    </tr>\n",
       "    <tr>\n",
       "      <th>138445</th>\n",
       "      <td>&lt;GEZ&gt; ዳዊትም ሳኦል ነፍሱን ሊፈልግ እንደ ወጣ አየ፤ ዳዊትም በዚፍ ም...</td>\n",
       "      <td>ወአእመረ ዳዊት ከመ ይመጽእ ሳኦል ይኅሥሦ ለዳዊት ወዳዊትሰ ሀለወ ውስተ ...</td>\n",
       "      <td>bible</td>\n",
       "      <td>amh-gez</td>\n",
       "    </tr>\n",
       "    <tr>\n",
       "      <th>138449</th>\n",
       "      <td>&lt;GEZ&gt; የሌላውንም እርሻ ቢያስበላ ከተመረጠ እርሻው ከማለፊያውም ወይኑ ...</td>\n",
       "      <td>ይትራዐይዎ አስማሮ ይፈዲ ወለእመሰ አግመረ ገራህተ እንዘ ይበልዕ በሰመረ ...</td>\n",
       "      <td>bible</td>\n",
       "      <td>amh-gez</td>\n",
       "    </tr>\n",
       "  </tbody>\n",
       "</table>\n",
       "</div>"
      ],
      "text/plain": [
       "                                              source_lang  \\\n",
       "138438  <GEZ> ዳዊትም ሄዶ የእግዚአብሔርን ታቦት ከአቢዳራ ቤት ወደ ዳዊት ከተ...   \n",
       "138439                            <GEZ> ቸርነትህ እንደ ምን በዛች!   \n",
       "138442                   <GEZ> ተነሥቶም እግዚአብሔር ወዳለው ቦታ ሄደ ።   \n",
       "138445  <GEZ> ዳዊትም ሳኦል ነፍሱን ሊፈልግ እንደ ወጣ አየ፤ ዳዊትም በዚፍ ም...   \n",
       "138449  <GEZ> የሌላውንም እርሻ ቢያስበላ ከተመረጠ እርሻው ከማለፊያውም ወይኑ ...   \n",
       "\n",
       "                                              target_lang   from direction  \n",
       "138438  ወሖረ ዳዊት ወአምጽኣ ለታቦተ እግዚአብሔር እምነ ቤተ አቢዳራ ውስተ ሀገረ...  bible   amh-gez  \n",
       "138439                          አድኅነኒ እንእደ ፀርየ ወእምእለ ሮዱኒ።  bible   amh-gez  \n",
       "138442  ወተንሥአ ወሖረ ወበጽሐ በጊዜሃ ውስተ ውእቱ መካን ኀበ ይቤሎ እግዚአብሔር...  bible   amh-gez  \n",
       "138445  ወአእመረ ዳዊት ከመ ይመጽእ ሳኦል ይኅሥሦ ለዳዊት ወዳዊትሰ ሀለወ ውስተ ...  bible   amh-gez  \n",
       "138449  ይትራዐይዎ አስማሮ ይፈዲ ወለእመሰ አግመረ ገራህተ እንዘ ይበልዕ በሰመረ ...  bible   amh-gez  "
      ]
     },
     "execution_count": 44,
     "metadata": {},
     "output_type": "execute_result"
    }
   ],
   "source": [
    "amh_gez_train_df.head()"
   ]
  },
  {
   "cell_type": "code",
   "execution_count": 45,
   "metadata": {},
   "outputs": [
    {
     "data": {
      "image/png": "[encoded data removed]",
      "text/plain": [
       "<Figure size 1440x576 with 1 Axes>"
      ]
     },
     "metadata": {
      "needs_background": "light"
     },
     "output_type": "display_data"
    }
   ],
   "source": [
    "plot_dist(amh_tir_train_df, amh_tir_test_df, amh_tir_val_df)"
   ]
  },
  {
   "cell_type": "code",
   "execution_count": 46,
   "metadata": {},
   "outputs": [
    {
     "data": {
      "image/png": "[encoded data removed]",
      "text/plain": [
       "<Figure size 1440x576 with 1 Axes>"
      ]
     },
     "metadata": {
      "needs_background": "light"
     },
     "output_type": "display_data"
    }
   ],
   "source": [
    "plot_dist(en_amh_train_df, en_amh_test_df, en_amh_val_df)"
   ]
  },
  {
   "cell_type": "code",
   "execution_count": 919,
   "metadata": {},
   "outputs": [],
   "source": [
    "# direction = directions[4]"
   ]
  },
  {
   "cell_type": "code",
   "execution_count": 920,
   "metadata": {},
   "outputs": [],
   "source": [
    "# en_amh_train_df = mmt_train_df[mmt_train_df['direction']==direction]\n",
    "# en_amh_test_df = mmt_test_df[mmt_test_df['direction']==direction]\n",
    "# en_amh_val_df = mmt_val_df[mmt_val_df['direction']==direction]"
   ]
  },
  {
   "cell_type": "code",
   "execution_count": 921,
   "metadata": {},
   "outputs": [
    {
     "name": "stdout",
     "output_type": "stream",
     "text": [
      "train_size: 69.65%\n",
      "test_size: 20.20%\n",
      "val_size: 10.15%\n"
     ]
    }
   ],
   "source": [
    "# total_size = len(en_amh_train_df) + len(en_amh_test_df) + len(en_amh_val_df)\n",
    "\n",
    "# print('train_size: '+'{:.2%}'.format(len(en_amh_train_df)/total_size))\n",
    "# print('test_size: '+'{:.2%}'.format(len(en_amh_test_df)/total_size))\n",
    "# print('val_size: '+'{:.2%}'.format(len(en_amh_val_df)/total_size))"
   ]
  }
 ],
 "metadata": {
  "kernelspec": {
   "display_name": "Python 3",
   "language": "python",
   "name": "python3"
  },
  "language_info": {
   "codemirror_mode": {
    "name": "ipython",
    "version": 3
   },
   "file_extension": ".py",
   "mimetype": "text/x-python",
   "name": "python",
   "nbconvert_exporter": "python",
   "pygments_lexer": "ipython3",
   "version": "3.8.10"
  }
 },
 "nbformat": 4,
 "nbformat_minor": 4
}
